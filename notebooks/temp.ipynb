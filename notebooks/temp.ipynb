{
 "cells": [
  {
   "cell_type": "code",
   "execution_count": null,
   "metadata": {},
   "outputs": [],
   "source": [
    "import pickle\n",
    "import os\n",
    "import sys\n",
    "\n",
    "models_path = \"../data/models\"\n",
    "\n",
    "models_paths = [os.path.join(models_path, f) for f in os.listdir(models_path)]\n",
    "\n",
    "# read 0\n",
    "with open(models_paths[0], \"rb\") as f:\n",
    "    model = pickle.load(f)"
   ]
  }
 ],
 "metadata": {
  "language_info": {
   "name": "python"
  }
 },
 "nbformat": 4,
 "nbformat_minor": 2
}
